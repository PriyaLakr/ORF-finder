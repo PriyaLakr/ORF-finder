{
 "cells": [
  {
   "cell_type": "code",
   "execution_count": 1,
   "metadata": {},
   "outputs": [],
   "source": [
    "def repeatcount(file_name):\n",
    "    from Bio import SeqIO\n",
    "    file = open(file_name)\n",
    "    file.seek(0)\n",
    "    minrepeat = int(input(f\"What is the length of minimum repeat?  \"))\n",
    "    maxrepeat = int(input(f\"What is the length of maximum repeat?  \"))\n",
    "    \n",
    "    #for interesperesd repeats\n",
    "    for record in SeqIO.parse(file_name, \"fasta\"):\n",
    "        print(record.id)\n",
    "        position = 0\n",
    "        repeat = 0\n",
    "        repeats = []\n",
    "        index = []\n",
    "        while position < len(record.seq):\n",
    "            record_new = record.seq[position:]\n",
    "           \n",
    "            for i in range(minrepeat,maxrepeat+1):\n",
    "                text = record_new[:i]\n",
    "                if record_new.count(text) >= 2:\n",
    "                    text = record_new[:i]\n",
    "                    index.append(record.seq.index(text))\n",
    "                    repeats.append(text) \n",
    "                    print(f\"{text} occuring at a frequency of {record_new.count(text)}\")\n",
    "                \n",
    "            position += 1\n",
    "    file.close()"
   ]
  }
 ],
 "metadata": {
  "kernelspec": {
   "display_name": "Python 3",
   "language": "python",
   "name": "python3"
  },
  "language_info": {
   "codemirror_mode": {
    "name": "ipython",
    "version": 3
   },
   "file_extension": ".py",
   "mimetype": "text/x-python",
   "name": "python",
   "nbconvert_exporter": "python",
   "pygments_lexer": "ipython3",
   "version": "3.7.6"
  }
 },
 "nbformat": 4,
 "nbformat_minor": 4
}
